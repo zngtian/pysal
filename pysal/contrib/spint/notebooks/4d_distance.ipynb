{
 "cells": [
  {
   "cell_type": "code",
   "execution_count": 69,
   "metadata": {
    "collapsed": false
   },
   "outputs": [],
   "source": [
    "import numpy as np\n",
    "from scipy.spatial import distance\n",
    "import scipy.spatial as spatial\n",
    "from pysal.weights import W\n",
    "from pysal.weights.util import isKDTree\n",
    "from pysal.weights import Distance as Distance"
   ]
  },
  {
   "cell_type": "code",
   "execution_count": 373,
   "metadata": {
    "collapsed": false
   },
   "outputs": [],
   "source": [
    "def nplinalg():\n",
    "    np.linalg.norm(np.array((67, 46, 92, 67))-np.array((44, 97, 25, 50)))\n",
    "    np.linalg.norm(np.array((67, 46, 92, 67))-np.array((84, 37, 66, 53)))\n",
    "    np.linalg.norm(np.array((67, 46, 92, 67))-np.array((30, 46, 23, 80)))\n",
    "    \n",
    "    np.linalg.norm(np.array((44, 97, 25, 50))-np.array((67, 46, 92, 67)))\n",
    "    np.linalg.norm(np.array((44, 97, 25, 50))-np.array((84, 37, 66, 53)))\n",
    "    np.linalg.norm(np.array((44, 97, 25, 50))-np.array((30, 46, 23, 80)))\n",
    "    \n",
    "    np.linalg.norm(np.array((84, 37, 66, 53))-np.array((44, 97, 25, 50)))\n",
    "    np.linalg.norm(np.array((84, 37, 66, 53))-np.array((30, 46, 23, 80)))\n",
    "    np.linalg.norm(np.array((84, 37, 66, 53))-np.array((67, 46, 92, 67)))\n",
    "    \n",
    "    np.linalg.norm(np.array((30, 46, 23, 80))-np.array((67, 46, 92, 67)))\n",
    "    np.linalg.norm(np.array((30, 46, 23, 80))-np.array((44, 97, 25, 50)))\n",
    "    np.linalg.norm(np.array((30, 46, 23, 80))-np.array((30, 46, 23, 80)))\n",
    "    \n",
    "def eucdist():\n",
    "    distance.euclidean(np.array((67, 46, 92, 67)),np.array((44, 97, 25, 50)))\n",
    "    distance.euclidean(np.array((67, 46, 92, 67)),np.array((84, 37, 66, 53)))\n",
    "    distance.euclidean(np.array((67, 46, 92, 67)),np.array((30, 46, 23, 80)))\n",
    "    \n",
    "    distance.euclidean(np.array((44, 97, 25, 50)),np.array((67, 46, 92, 67)))\n",
    "    distance.euclidean(np.array((44, 97, 25, 50)),np.array((84, 37, 66, 53)))\n",
    "    distance.euclidean(np.array((44, 97, 25, 50)),np.array((30, 46, 23, 80)))\n",
    "    \n",
    "    distance.euclidean(np.array((84, 37, 66, 53)),np.array((44, 97, 25, 50)))\n",
    "    distance.euclidean(np.array((84, 37, 66, 53)),np.array((30, 46, 23, 80)))\n",
    "    distance.euclidean(np.array((84, 37, 66, 53)),np.array((67, 46, 92, 67)))\n",
    "    \n",
    "    distance.euclidean(np.array((30, 46, 23, 80)),np.array((67, 46, 92, 67)))\n",
    "    distance.euclidean(np.array((30, 46, 23, 80)),np.array((44, 97, 25, 50)))\n",
    "    distance.euclidean(np.array((30, 46, 23, 80)),np.array((30, 46, 23, 80)))\n",
    "    \n",
    "def distpython():\n",
    "    dist(np.array((67, 46, 92, 67)),np.array((44, 97, 25, 50)))\n",
    "    dist(np.array((67, 46, 92, 67)),np.array((84, 37, 66, 53)))\n",
    "    dist(np.array((67, 46, 92, 67)),np.array((30, 46, 23, 80)))\n",
    "    \n",
    "    dist(np.array((44, 97, 25, 50)),np.array((67, 46, 92, 67)))\n",
    "    dist(np.array((44, 97, 25, 50)),np.array((84, 37, 66, 53)))\n",
    "    dist(np.array((44, 97, 25, 50)),np.array((30, 46, 23, 80)))\n",
    "    \n",
    "    dist(np.array((84, 37, 66, 53)),np.array((44, 97, 25, 50)))\n",
    "    dist(np.array((84, 37, 66, 53)),np.array((30, 46, 23, 80)))\n",
    "    dist(np.array((84, 37, 66, 53)),np.array((67, 46, 92, 67)))\n",
    "    \n",
    "    dist(np.array((30, 46, 23, 80)),np.array((67, 46, 92, 67)))\n",
    "    dist(np.array((30, 46, 23, 80)),np.array((44, 97, 25, 50)))\n",
    "    dist(np.array((30, 46, 23, 80)),np.array((30, 46, 23, 80)))\n",
    "\n",
    "def scpkdtree():\n",
    "    data = zip(x.ravel(), y.ravel(), w.ravel(), z.ravel())\n",
    "    tree = spatial.KDTree(data)\n",
    "    W = pysal.weights.DistanceBand(tree, threshold=9999, alpha=-1.5, binary=False)\n"
   ]
  },
  {
   "cell_type": "code",
   "execution_count": 374,
   "metadata": {
    "collapsed": false
   },
   "outputs": [
    {
     "name": "stdout",
     "output_type": "stream",
     "text": [
      "The slowest run took 144.28 times longer than the fastest. This could mean that an intermediate result is being cached.\n",
      "10000 loops, best of 3: 86.8 µs per loop\n",
      "The slowest run took 17.86 times longer than the fastest. This could mean that an intermediate result is being cached.\n",
      "10000 loops, best of 3: 82.1 µs per loop\n",
      "The slowest run took 5.82 times longer than the fastest. This could mean that an intermediate result is being cached.\n",
      "1 loop, best of 3: 40min 50s per loop\n"
     ]
    }
   ],
   "source": [
    "%timeit nplinalg()\n",
    "%timeit distpython()\n",
    "%timeit scpkdtree()"
   ]
  },
  {
   "cell_type": "code",
   "execution_count": 371,
   "metadata": {
    "collapsed": false
   },
   "outputs": [
    {
     "ename": "KeyboardInterrupt",
     "evalue": "",
     "output_type": "error",
     "traceback": [
      "\u001b[0;31m---------------------------------------------------------------------------\u001b[0m",
      "\u001b[0;31mKeyboardInterrupt\u001b[0m                         Traceback (most recent call last)",
      "\u001b[0;32m<ipython-input-371-25b6bf1123d8>\u001b[0m in \u001b[0;36m<module>\u001b[0;34m()\u001b[0m\n\u001b[1;32m      6\u001b[0m \u001b[0mdata\u001b[0m \u001b[0;34m=\u001b[0m \u001b[0mzip\u001b[0m\u001b[0;34m(\u001b[0m\u001b[0mx\u001b[0m\u001b[0;34m.\u001b[0m\u001b[0mravel\u001b[0m\u001b[0;34m(\u001b[0m\u001b[0;34m)\u001b[0m\u001b[0;34m,\u001b[0m \u001b[0my\u001b[0m\u001b[0;34m.\u001b[0m\u001b[0mravel\u001b[0m\u001b[0;34m(\u001b[0m\u001b[0;34m)\u001b[0m\u001b[0;34m,\u001b[0m \u001b[0mw\u001b[0m\u001b[0;34m.\u001b[0m\u001b[0mravel\u001b[0m\u001b[0;34m(\u001b[0m\u001b[0;34m)\u001b[0m\u001b[0;34m,\u001b[0m \u001b[0mz\u001b[0m\u001b[0;34m.\u001b[0m\u001b[0mravel\u001b[0m\u001b[0;34m(\u001b[0m\u001b[0;34m)\u001b[0m\u001b[0;34m)\u001b[0m\u001b[0;34m\u001b[0m\u001b[0m\n\u001b[1;32m      7\u001b[0m \u001b[0mtree\u001b[0m \u001b[0;34m=\u001b[0m \u001b[0mspatial\u001b[0m\u001b[0;34m.\u001b[0m\u001b[0mKDTree\u001b[0m\u001b[0;34m(\u001b[0m\u001b[0mdata\u001b[0m\u001b[0;34m)\u001b[0m\u001b[0;34m\u001b[0m\u001b[0m\n\u001b[0;32m----> 8\u001b[0;31m \u001b[0mW\u001b[0m \u001b[0;34m=\u001b[0m \u001b[0mpysal\u001b[0m\u001b[0;34m.\u001b[0m\u001b[0mweights\u001b[0m\u001b[0;34m.\u001b[0m\u001b[0mDistanceBand\u001b[0m\u001b[0;34m(\u001b[0m\u001b[0mtree\u001b[0m\u001b[0;34m,\u001b[0m \u001b[0mthreshold\u001b[0m\u001b[0;34m=\u001b[0m\u001b[0;36m9999\u001b[0m\u001b[0;34m,\u001b[0m \u001b[0malpha\u001b[0m\u001b[0;34m=\u001b[0m\u001b[0;34m-\u001b[0m\u001b[0;36m1.5\u001b[0m\u001b[0;34m,\u001b[0m \u001b[0mbinary\u001b[0m\u001b[0;34m=\u001b[0m\u001b[0mFalse\u001b[0m\u001b[0;34m)\u001b[0m\u001b[0;34m\u001b[0m\u001b[0m\n\u001b[0m",
      "\u001b[0;32m//anaconda/lib/python2.7/site-packages/pysal/weights/Distance.pyc\u001b[0m in \u001b[0;36m__init__\u001b[0;34m(self, data, threshold, p, alpha, binary, ids)\u001b[0m\n\u001b[1;32m    472\u001b[0m         \u001b[0mself\u001b[0m\u001b[0;34m.\u001b[0m\u001b[0malpha\u001b[0m \u001b[0;34m=\u001b[0m \u001b[0malpha\u001b[0m\u001b[0;34m\u001b[0m\u001b[0m\n\u001b[1;32m    473\u001b[0m         \u001b[0mself\u001b[0m\u001b[0;34m.\u001b[0m\u001b[0m_band\u001b[0m\u001b[0;34m(\u001b[0m\u001b[0;34m)\u001b[0m\u001b[0;34m\u001b[0m\u001b[0m\n\u001b[0;32m--> 474\u001b[0;31m         \u001b[0mneighbors\u001b[0m\u001b[0;34m,\u001b[0m \u001b[0mweights\u001b[0m \u001b[0;34m=\u001b[0m \u001b[0mself\u001b[0m\u001b[0;34m.\u001b[0m\u001b[0m_distance_to_W\u001b[0m\u001b[0;34m(\u001b[0m\u001b[0mids\u001b[0m\u001b[0;34m)\u001b[0m\u001b[0;34m\u001b[0m\u001b[0m\n\u001b[0m\u001b[1;32m    475\u001b[0m         \u001b[0mW\u001b[0m\u001b[0;34m.\u001b[0m\u001b[0m__init__\u001b[0m\u001b[0;34m(\u001b[0m\u001b[0mself\u001b[0m\u001b[0;34m,\u001b[0m \u001b[0mneighbors\u001b[0m\u001b[0;34m,\u001b[0m \u001b[0mweights\u001b[0m\u001b[0;34m,\u001b[0m \u001b[0mids\u001b[0m\u001b[0;34m)\u001b[0m\u001b[0;34m\u001b[0m\u001b[0m\n\u001b[1;32m    476\u001b[0m \u001b[0;34m\u001b[0m\u001b[0m\n",
      "\u001b[0;32m//anaconda/lib/python2.7/site-packages/pysal/weights/Distance.pyc\u001b[0m in \u001b[0;36m_distance_to_W\u001b[0;34m(self, ids)\u001b[0m\n\u001b[1;32m    504\u001b[0m                 \u001b[0mi\u001b[0m\u001b[0;34m,\u001b[0m\u001b[0mj\u001b[0m \u001b[0;34m=\u001b[0m \u001b[0mkey\u001b[0m\u001b[0;34m\u001b[0m\u001b[0m\n\u001b[1;32m    505\u001b[0m                 \u001b[0;32mif\u001b[0m \u001b[0mi\u001b[0m \u001b[0;34m!=\u001b[0m \u001b[0mj\u001b[0m\u001b[0;34m:\u001b[0m\u001b[0;34m\u001b[0m\u001b[0m\n\u001b[0;32m--> 506\u001b[0;31m                     \u001b[0;32mif\u001b[0m \u001b[0mj\u001b[0m \u001b[0;32mnot\u001b[0m \u001b[0;32min\u001b[0m \u001b[0mneighbors\u001b[0m\u001b[0;34m[\u001b[0m\u001b[0mi\u001b[0m\u001b[0;34m]\u001b[0m\u001b[0;34m:\u001b[0m\u001b[0;34m\u001b[0m\u001b[0m\n\u001b[0m\u001b[1;32m    507\u001b[0m                         \u001b[0mweights\u001b[0m\u001b[0;34m[\u001b[0m\u001b[0mi\u001b[0m\u001b[0;34m]\u001b[0m\u001b[0;34m.\u001b[0m\u001b[0mappend\u001b[0m\u001b[0;34m(\u001b[0m\u001b[0mweight\u001b[0m\u001b[0;34m**\u001b[0m\u001b[0mself\u001b[0m\u001b[0;34m.\u001b[0m\u001b[0malpha\u001b[0m\u001b[0;34m)\u001b[0m\u001b[0;34m\u001b[0m\u001b[0m\n\u001b[1;32m    508\u001b[0m                         \u001b[0mneighbors\u001b[0m\u001b[0;34m[\u001b[0m\u001b[0mi\u001b[0m\u001b[0;34m]\u001b[0m\u001b[0;34m.\u001b[0m\u001b[0mappend\u001b[0m\u001b[0;34m(\u001b[0m\u001b[0mj\u001b[0m\u001b[0;34m)\u001b[0m\u001b[0;34m\u001b[0m\u001b[0m\n",
      "\u001b[0;31mKeyboardInterrupt\u001b[0m: "
     ]
    }
   ],
   "source": [
    "x = np.random.randint(1,1000, 3000)\n",
    "y = np.random.randint(1,1000, 3000)\n",
    "w = np.random.randint(1,1000, 3000)\n",
    "z = np.random.randint(1,1000, 3000)\n",
    "\n",
    "data = zip(x.ravel(), y.ravel(), w.ravel(), z.ravel())\n",
    "tree = spatial.KDTree(data)\n",
    "W = pysal.weights.DistanceBand(tree, threshold=9999, alpha=-1.5, binary=False)"
   ]
  },
  {
   "cell_type": "code",
   "execution_count": 65,
   "metadata": {
    "collapsed": false
   },
   "outputs": [],
   "source": [
    "class DistanceBand(W):\n",
    "    \"\"\"\n",
    "    Spatial weights based on distance band.\n",
    "\n",
    "    Parameters\n",
    "    ----------\n",
    "\n",
    "    data        : array\n",
    "                  (n,k) or KDTree where KDtree.data is array (n,k)\n",
    "                  n observations on k characteristics used to measure\n",
    "                  distances between the n objects\n",
    "    threshold  : float\n",
    "                 distance band\n",
    "    p          : float\n",
    "                 Minkowski p-norm distance metric parameter:\n",
    "                 1<=p<=infinity\n",
    "                 2: Euclidean distance\n",
    "                 1: Manhattan distance\n",
    "    binary     : boolean\n",
    "                 If true w_{ij}=1 if d_{i,j}<=threshold, otherwise w_{i,j}=0\n",
    "                 If false wij=dij^{alpha}\n",
    "    alpha      : float\n",
    "                 distance decay parameter for weight (default -1.0)\n",
    "                 if alpha is positive the weights will not decline with\n",
    "                 distance. If binary is True, alpha is ignored\n",
    "\n",
    "    ids         : list\n",
    "                  values to use for keys of the neighbors and weights dicts\n",
    "\n",
    "    Attributes\n",
    "    ----------\n",
    "    weights : dict\n",
    "              of neighbor weights keyed by observation id\n",
    "\n",
    "    neighbors : dict\n",
    "                of neighbors keyed by observation id\n",
    "\n",
    "\n",
    "    \"\"\"\n",
    "\n",
    "    def __init__(self, data, threshold=None, p=2, alpha=-1.0, binary=True, ids=None):\n",
    "        \"\"\"Casting to floats is a work around for a bug in scipy.spatial.\n",
    "        See detail in pysal issue #126.\n",
    "\n",
    "        \"\"\"\n",
    "        if isKDTree(data):\n",
    "            self.kd = data\n",
    "            self.data = self.kd.data\n",
    "        else:\n",
    "            try:\n",
    "                data = np.asarray(data)\n",
    "                if data.dtype.kind != 'f':\n",
    "                    data = data.astype(float)\n",
    "                self.data = data\n",
    "                self.kd = KDTree(self.data)\n",
    "            except:\n",
    "                raise ValueError(\"Could not make array from data\")\n",
    "\n",
    "        self.p = p\n",
    "        self.threshold = threshold\n",
    "        self.binary = binary\n",
    "        self.alpha = alpha\n",
    "        self._band()\n",
    "        neighbors, weights = self._distance_to_W(ids)\n",
    "        W.__init__(self, neighbors, weights, ids)\n",
    "\n",
    "    def _band(self):\n",
    "        \"\"\"Find all pairs within threshold.\n",
    "\n",
    "        \"\"\"\n",
    "        if self.threshold is not None:\n",
    "            self.dmat = self.kd.sparse_distance_matrix(\n",
    "                    self.kd, max_distance=self.threshold)\n",
    "        else:\n",
    "            self.dmat = np.array(distance_matrix(self.data, self.data))\n",
    "\n",
    "    def _distance_to_W(self, ids=None):\n",
    "        if ids:\n",
    "            ids = np.array(ids)\n",
    "        else:\n",
    "            ids = np.arange(self.dmat.shape[0])\n",
    "        neighbors = dict([(i,[]) for i in ids])\n",
    "        weights = dict([(i,[]) for i in ids])\n",
    "        if self.binary:\n",
    "            for key,weight in self.dmat.items():\n",
    "                i,j = key\n",
    "                if i != j:\n",
    "                    if j not in neighbors[i]:\n",
    "                        weights[i].append(1)\n",
    "                        neighbors[i].append(j)\n",
    "                    if i not in neighbors[j]:\n",
    "                        weights[j].append(1)\n",
    "                        neighbors[j].append(i)\n",
    "\n",
    "        else:\n",
    "            weighted = np.array(map(lambda x: pow(x, -1.5), self.dmat))\n",
    "            print weighted.shape\n",
    "            rows, cols =self.dmat.shape\n",
    "            for i in range(rows):\n",
    "                for j in range(cols):\n",
    "                    if i != j:\n",
    "                        if j not in neighbors[i]:\n",
    "                            weights[i].append(weighted[i,j])\n",
    "                            neighbors[i].append(j)\n",
    "                        if i not in neighbors[j]:\n",
    "                            weights[j].append(weighted[i,j])\n",
    "                            neighbors[j].append(i)\n",
    "\n",
    "        return neighbors, weights\n"
   ]
  },
  {
   "cell_type": "code",
   "execution_count": 10,
   "metadata": {
    "collapsed": false
   },
   "outputs": [],
   "source": [
    "x = np.random.randint(1,1000, 500)\n",
    "y = np.random.randint(1,1000, 500)\n",
    "w = np.random.randint(1,1000, 500)\n",
    "z = np.random.randint(1,1000, 500)\n",
    "\n",
    "data = zip(x.ravel(), y.ravel(), w.ravel(), z.ravel())\n",
    "tree = spatial.KDTree(data)\n"
   ]
  },
  {
   "cell_type": "code",
   "execution_count": 11,
   "metadata": {
    "collapsed": false
   },
   "outputs": [
    {
     "name": "stdout",
     "output_type": "stream",
     "text": [
      "1 loop, best of 3: 7.73 s per loop\n"
     ]
    }
   ],
   "source": [
    "%timeit DistanceBand(tree, threshold=9999, alpha=-1.5, binary=False)"
   ]
  },
  {
   "cell_type": "code",
   "execution_count": 12,
   "metadata": {
    "collapsed": false
   },
   "outputs": [
    {
     "name": "stdout",
     "output_type": "stream",
     "text": [
      " "
     ]
    }
   ],
   "source": [
    "%prun DistanceBand(tree, threshold=9999, alpha=-1.5, binary=False)"
   ]
  },
  {
   "cell_type": "code",
   "execution_count": 15,
   "metadata": {
    "collapsed": false
   },
   "outputs": [],
   "source": [
    "weight = DistanceBand(tree, threshold=9999, alpha=-1.5, binary=False)"
   ]
  },
  {
   "cell_type": "code",
   "execution_count": 17,
   "metadata": {
    "collapsed": false
   },
   "outputs": [],
   "source": [
    "pairs = weight.dmat.keys()"
   ]
  },
  {
   "cell_type": "code",
   "execution_count": 13,
   "metadata": {
    "collapsed": true
   },
   "outputs": [],
   "source": [
    "from scipy.spatial import distance_matrix"
   ]
  },
  {
   "cell_type": "code",
   "execution_count": 28,
   "metadata": {
    "collapsed": true
   },
   "outputs": [],
   "source": [
    "one = np.hstack([x.reshape((-1,1)),y.reshape((-1,1))])\n",
    "two = np.hstack([w.reshape((-1,1)),z.reshape((-1,1))])\n",
    "test = np.hstack([x.reshape((-1,1)),y.reshape((-1,1)), w.reshape((-1,1)),z.reshape((-1,1))])"
   ]
  },
  {
   "cell_type": "code",
   "execution_count": 60,
   "metadata": {
    "collapsed": false
   },
   "outputs": [
    {
     "data": {
      "text/plain": [
       "(500, 500)"
      ]
     },
     "execution_count": 60,
     "metadata": {},
     "output_type": "execute_result"
    }
   ],
   "source": [
    "mat = distance_matrix(data, data)\n",
    "mat = np.array(mat)\n",
    "mat.shape"
   ]
  },
  {
   "cell_type": "code",
   "execution_count": 67,
   "metadata": {
    "collapsed": false
   },
   "outputs": [
    {
     "name": "stdout",
     "output_type": "stream",
     "text": [
      "(500, 500)\n",
      "CPU times: user 1.82 s, sys: 87 ms, total: 1.91 s\n",
      "Wall time: 1.85 s\n"
     ]
    },
    {
     "data": {
      "text/plain": [
       "<__main__.DistanceBand at 0x123f3c450>"
      ]
     },
     "execution_count": 67,
     "metadata": {},
     "output_type": "execute_result"
    }
   ],
   "source": [
    "%time DistanceBand(tree, alpha=-1.5, binary=False)"
   ]
  },
  {
   "cell_type": "code",
   "execution_count": 70,
   "metadata": {
    "collapsed": false
   },
   "outputs": [
    {
     "name": "stdout",
     "output_type": "stream",
     "text": [
      "CPU times: user 8.43 s, sys: 92.3 ms, total: 8.52 s\n",
      "Wall time: 8.5 s\n"
     ]
    },
    {
     "data": {
      "text/plain": [
       "<pysal.weights.Distance.DistanceBand at 0x123f38250>"
      ]
     },
     "execution_count": 70,
     "metadata": {},
     "output_type": "execute_result"
    }
   ],
   "source": [
    "%time Distance.DistanceBand(tree, threshold=9999999, alpha=-1.5, binary=False)"
   ]
  },
  {
   "cell_type": "code",
   "execution_count": 71,
   "metadata": {
    "collapsed": false
   },
   "outputs": [
    {
     "name": "stdout",
     "output_type": "stream",
     "text": [
      "(500, 500)\n"
     ]
    }
   ],
   "source": [
    "W_new = DistanceBand(tree, alpha=-1.5, binary=False)"
   ]
  },
  {
   "cell_type": "code",
   "execution_count": 72,
   "metadata": {
    "collapsed": true
   },
   "outputs": [],
   "source": [
    "W_old = Distance.DistanceBand(tree, threshold=9999999, alpha=-1.5, binary=False)"
   ]
  },
  {
   "cell_type": "code",
   "execution_count": 74,
   "metadata": {
    "collapsed": false
   },
   "outputs": [
    {
     "data": {
      "text/plain": [
       "True"
      ]
     },
     "execution_count": 74,
     "metadata": {},
     "output_type": "execute_result"
    }
   ],
   "source": [
    "np.allclose(W_new.full()[0], W_old.full()[0])"
   ]
  },
  {
   "cell_type": "code",
   "execution_count": null,
   "metadata": {
    "collapsed": true
   },
   "outputs": [],
   "source": []
  }
 ],
 "metadata": {
  "anaconda-cloud": {},
  "kernelspec": {
   "display_name": "Python [Root]",
   "language": "python",
   "name": "Python [Root]"
  },
  "language_info": {
   "codemirror_mode": {
    "name": "ipython",
    "version": 2
   },
   "file_extension": ".py",
   "mimetype": "text/x-python",
   "name": "python",
   "nbconvert_exporter": "python",
   "pygments_lexer": "ipython2",
   "version": "2.7.12"
  }
 },
 "nbformat": 4,
 "nbformat_minor": 0
}
